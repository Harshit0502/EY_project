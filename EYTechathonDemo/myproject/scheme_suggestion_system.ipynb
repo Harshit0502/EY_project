import pandas as pd
import subprocess

# Path to the notebook
notebook_path = "path/to/scheme_suggestion_system.ipynb"

# Run the notebook with the generated CSV
subprocess.run(["jupyter", "nbconvert", "--execute", notebook_path, "--to", "notebook"])

extracted_user_profile_csv = "path/to/extracted_user_profile.csv"
user_profiles = pd.read_csv(extracted_user_profile_csv)
schemes = pd.read_csv(r"E:\Users\Pc\EYTechathonDemo\myproject\dataset\schemes.csv")

# Preprocessing User Profiles
def preprocess_user_profiles(df):
    # Ensure schema compliance
    required_columns = {
        'user_id': 'object',
        'name': 'object',
        'age': 'int64',
        'gender': 'object',
        'location': 'object',
        'income': 'float64',
        'employment_status': 'object',
        'education_level': 'object',
        'disability_status': 'bool',
        'user_preferences': 'object'
    }
    # Verify columns exist and convert types
    for col, dtype in required_columns.items():
        if col not in df.columns:
            raise ValueError(f"Column '{col}' is missing from user_profiles.")
        df[col] = df[col].astype(dtype)

    # Normalize categorical columns
    categorical_cols = ['gender', 'location', 'employment_status', 'education_level', 'user_preferences']
    for col in categorical_cols:
        df[col] = df[col].str.lower()

    # Handle missing values
    df.fillna({
        'gender': 'unknown',
        'location': 'unknown',
        'employment_status': 'unknown',
        'education_level': 'unknown',
        'user_preferences': 'none',
        'disability_status': False
    }, inplace=True)

    # Normalize income
    df['income'] = (df['income'] - df['income'].min()) / (df['income'].max() - df['income'].min())

    return df

# Preprocessing Schemes
def preprocess_schemes(df):
    # Ensure schema compliance
    required_columns = {
        'scheme_id': 'object',
        'scheme_name': 'object',
        'gender': 'object',
        'sector': 'object',
        'Disability': 'bool',
        'Age Group': 'object'
    }
    # Verify columns exist and convert types
    for col, dtype in required_columns.items():
        if col not in df.columns:
            raise ValueError(f"Column '{col}' is missing from schemes.")
        df[col] = df[col].astype(dtype)

    # Normalize categorical columns
    categorical_cols = ['gender', 'sector', 'Age Group']
    for col in categorical_cols:
        df[col] = df[col].str.lower()

    # Handle missing values
    df.fillna({
        'gender': 'unknown',
        'sector': 'unknown',
        'Age Group': 'all',
        'Disability': False
    }, inplace=True)

    return df

# Apply preprocessing functions
try:
    user_profiles_cleaned = preprocess_user_profiles(user_profiles)
    schemes_cleaned = preprocess_schemes(schemes)

    # Save the cleaned data
    user_profiles_cleaned.to_csv(r"E:\Users\Pc\EYTechathonDemo\myproject\cleaned_data\user_profiles_cleaned.csv", index=False)
    schemes_cleaned.to_csv(r"E:\Users\Pc\EYTechathonDemo\myproject\cleaned_data\schemes_cleaned.csv", index=False)

    # Display the first few rows of cleaned data
    print("User Profiles Cleaned:\n", user_profiles_cleaned.head())
    print("\nSchemes Cleaned:\n", schemes_cleaned.head())
except Exception as e:
    print(f"Error during preprocessing: {e}")
